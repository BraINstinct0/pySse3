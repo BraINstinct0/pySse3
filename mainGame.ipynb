{
 "cells": [
  {
   "cell_type": "code",
   "execution_count": 1,
   "metadata": {},
   "outputs": [],
   "source": [
    "import random\n",
    "from tqdm import tqdm\n",
    "import math\n",
    "import Tactic\n",
    "#0-00 k-charge ki;ki++, p/e lose k/d/t tie\n",
    "#3-10 p-pa(wave);ki--, e lose p/d/t tie k win\n",
    "#6-20 e-energy pa(wave);ki-=3, e/t tie k/p/d win\n",
    "#1-01 d-defense;pass e lose k/p/d/t tie\n",
    "#2-02 t-teleport;ki--, k/p/e/d/t tie\n",
    "\n",
    "move_dict={'charge':0, 'pa':3, 'energy':6, 'defense':1, 'teleport':2}\n",
    "move_rdict={0:'charge', 3:'pa', 6:'energy', 1:'defense', 2:'teleport'}\n"
   ]
  },
  {
   "cell_type": "code",
   "execution_count": 2,
   "metadata": {},
   "outputs": [],
   "source": [
    "def result(self_move, oppo_move):\n",
    "    if((self_move%3 + self_move//3)<(oppo_move//3)):\n",
    "        return False\n",
    "    elif((self_move//3)>(oppo_move%3 + oppo_move//3)):\n",
    "        return True\n",
    "    else:\n",
    "        return None\n",
    "class Game:\n",
    "    def __init__(self, self_tactic, oppo_tactic):\n",
    "        self.self_tactic=self_tactic\n",
    "        self.oppo_tactic=oppo_tactic\n",
    "        self.self_ki=0\n",
    "        self.oppo_ki=0\n",
    "        self.self_hist=[(-1, 0)]\n",
    "        self.oppo_hist=[(-1, 0)]\n",
    "        self.win=None#True: self win, False: opp win\n",
    "    def reset(self):\n",
    "        self.self_ki=0\n",
    "        self.oppo_ki=0\n",
    "        self.self_hist=[(-1, 0)]\n",
    "        self.oppo_hist=[(-1, 0)]\n",
    "        self.win=None\n",
    "    def update(self):\n",
    "        \n",
    "        self_move=Tactic.wrap_move(self.self_ki, self.self_tactic(self.self_ki, self.oppo_ki, self.self_hist, self.oppo_hist))\n",
    "        oppo_move=Tactic.wrap_move(self.oppo_ki, self.oppo_tactic(self.oppo_ki, self.self_ki, self.oppo_hist, self.self_hist))\n",
    "        self.win=result(self_move, oppo_move)\n",
    "        \n",
    "        self.self_ki-=(3 if self_move==6 else (-1 if self_move==0 else(0 if self_move==1 else 1)))\n",
    "        self.oppo_ki-=(3 if oppo_move==6 else (-1 if oppo_move==0 else(0 if oppo_move==1 else 1)))\n",
    "        \n",
    "        self.self_hist.append((self_move, self.self_ki))\n",
    "        self.oppo_hist.append((oppo_move, self.oppo_ki))\n",
    "    def dispstat(game):\n",
    "        print(\"Round {}: Self did {:^8s}, Opponent did {:^8s}, current ki is {}, {}\".format(len(game.self_hist)-1, move_rdict[(game.self_hist[-1])[0]], move_rdict[(game.oppo_hist[-1])[0]], (game.self_hist[-1])[1], (game.oppo_hist[-1])[1]))"
   ]
  },
  {
   "cell_type": "code",
   "execution_count": 3,
   "metadata": {},
   "outputs": [],
   "source": [
    "def matchTactic(rounds=100, verbose=2, getHist=False, TQDM=True, self_tactic=Tactic.rand_act, oppo_tactic=Tactic.rand_act):\n",
    "    game=Game(self_tactic, oppo_tactic)\n",
    "    hist=[]#self win: True, Opponent win: False\n",
    "    if(verbose>=2):\n",
    "        for i in range(rounds):\n",
    "            while(game.win is None):\n",
    "                game.update()\n",
    "                Game.dispstat(game)\n",
    "            print((\"Self win\" if game.win else \"Opponent win\"), \"\\n-----------------\\n\")\n",
    "            hist.append(game.win)\n",
    "            game.reset()\n",
    "    elif(verbose==1):\n",
    "        for i in range(rounds):\n",
    "            while(game.win is None):\n",
    "                game.update()\n",
    "            print((\"Self win\" if game.win else \"Opponent win\"))\n",
    "            hist.append(game.win)\n",
    "            game.reset()\n",
    "    elif(TQDM):\n",
    "        for i in tqdm(range(rounds)):\n",
    "            while(game.win is None):\n",
    "                game.update()\n",
    "            hist.append(game.win)\n",
    "            game.reset()\n",
    "    else:\n",
    "        for i in range(rounds):\n",
    "            while(game.win is None):\n",
    "                game.update()\n",
    "            hist.append(game.win)\n",
    "            game.reset()\n",
    "    del game\n",
    "    if(getHist):\n",
    "        return hist"
   ]
  },
  {
   "cell_type": "code",
   "execution_count": 4,
   "metadata": {},
   "outputs": [
    {
     "name": "stderr",
     "output_type": "stream",
     "text": [
      "100%|██████████| 1000000/1000000 [00:10<00:00, 93465.07it/s]"
     ]
    },
    {
     "name": "stdout",
     "output_type": "stream",
     "text": [
      "500421 out of 1000000\n"
     ]
    },
    {
     "name": "stderr",
     "output_type": "stream",
     "text": [
      "\n"
     ]
    }
   ],
   "source": [
    "rslt=matchTactic(self_tactic=Tactic.rand_act, oppo_tactic=Tactic.rand_act, verbose=0, getHist=True, rounds=1000000)\n",
    "print(sum(rslt),\"out of\", len(rslt))\n",
    "del rslt"
   ]
  },
  {
   "cell_type": "code",
   "execution_count": 5,
   "metadata": {},
   "outputs": [
    {
     "name": "stderr",
     "output_type": "stream",
     "text": [
      "100%|██████████| 1000000/1000000 [00:02<00:00, 415214.44it/s]\n"
     ]
    },
    {
     "name": "stdout",
     "output_type": "stream",
     "text": [
      "500873 out of 1000000\n"
     ]
    }
   ],
   "source": [
    "rslt=matchTactic(self_tactic=Tactic.RuleBased1, oppo_tactic=Tactic.RuleBased1, verbose=0, getHist=True, rounds=1000000)\n",
    "print(sum(rslt),\"out of\", len(rslt))\n",
    "del rslt"
   ]
  },
  {
   "cell_type": "code",
   "execution_count": 6,
   "metadata": {},
   "outputs": [
    {
     "name": "stderr",
     "output_type": "stream",
     "text": [
      "100%|██████████| 1000000/1000000 [00:05<00:00, 195309.56it/s]"
     ]
    },
    {
     "name": "stdout",
     "output_type": "stream",
     "text": [
      "764414 out of 1000000\n"
     ]
    },
    {
     "name": "stderr",
     "output_type": "stream",
     "text": [
      "\n"
     ]
    }
   ],
   "source": [
    "rslt=matchTactic(self_tactic=Tactic.RuleBased1, oppo_tactic=Tactic.rand_act, verbose=0, getHist=True, rounds=1000000)\n",
    "print(sum(rslt),\"out of\", len(rslt))\n",
    "del rslt"
   ]
  },
  {
   "cell_type": "code",
   "execution_count": 7,
   "metadata": {},
   "outputs": [],
   "source": [
    "### This never ends!\n",
    "#rslt=matchTactic(self_tactic=Tactic.RuleBased2, oppo_tactic=Tactic.RuleBased2, verbose=2, getHist=True, rounds=1000000)\n",
    "#print(sum(rslt),\"out of\", len(rslt))\n",
    "#del rslt"
   ]
  },
  {
   "cell_type": "code",
   "execution_count": 8,
   "metadata": {},
   "outputs": [
    {
     "name": "stderr",
     "output_type": "stream",
     "text": [
      "100%|██████████| 1000000/1000000 [00:00<00:00, 1104687.79it/s]"
     ]
    },
    {
     "name": "stdout",
     "output_type": "stream",
     "text": [
      "660855 out of 1000000\n"
     ]
    },
    {
     "name": "stderr",
     "output_type": "stream",
     "text": [
      "\n"
     ]
    }
   ],
   "source": [
    "rslt=matchTactic(self_tactic=Tactic.RuleBased2, oppo_tactic=Tactic.RuleBased1, verbose=0, getHist=True, rounds=1000000)\n",
    "print(sum(rslt),\"out of\", len(rslt))\n",
    "del rslt"
   ]
  },
  {
   "cell_type": "code",
   "execution_count": 9,
   "metadata": {},
   "outputs": [
    {
     "name": "stderr",
     "output_type": "stream",
     "text": [
      "100%|██████████| 1000000/1000000 [00:03<00:00, 253125.44it/s]"
     ]
    },
    {
     "name": "stdout",
     "output_type": "stream",
     "text": [
      "873109 out of 1000000\n"
     ]
    },
    {
     "name": "stderr",
     "output_type": "stream",
     "text": [
      "\n"
     ]
    }
   ],
   "source": [
    "rslt=matchTactic(self_tactic=Tactic.RuleBased2, oppo_tactic=Tactic.rand_act, verbose=0, getHist=True, rounds=1000000)\n",
    "print(sum(rslt),\"out of\", len(rslt))\n",
    "del rslt"
   ]
  },
  {
   "cell_type": "code",
   "execution_count": 10,
   "metadata": {},
   "outputs": [],
   "source": [
    "###used to train and get RuleBased3\n",
    "#def getWinRate2(t1, t2, t3, t4, Rounds=100000):\n",
    "#    rslt=matchTactic(self_tactic=Tactic.RuleBased3_gen(t1, t2, t3, t4), TQDM=False, oppo_tactic=Tactic.RuleBased2_gen(0, 2.75, 2.5, 0), verbose=0, getHist=True, rounds=Rounds)\n",
    "#    w=sum(rslt)/len(rslt)\n",
    "#    del rslt\n",
    "#    return w\n",
    "#T1, T2, T3, T4=0.01, 0.275, 0.25, 0.01#0.5 0.5 0.7 0.1 at first\n",
    "#d1=0.01; d2=0.01; d3=0.01; d4=0.01# all 0.01 at first\n",
    "#lr=1\n",
    "#for _ in range(1000):\n",
    "#    w=getWinRate2(T1, T2, T3, T4, 500000)\n",
    "#    w1=getWinRate2(T1+d1, T2, T3, T4, 500000)\n",
    "#    w2=getWinRate2(T1, T2+d2, T3, T4, 500000)\n",
    "#    w3=getWinRate2(T1, T2, T3+d3, T4, 500000)\n",
    "#    w4=getWinRate2(T1, T2, T3, T4+d4, 500000)\n",
    "#    d1=(w1-w)/d1\n",
    "#    d2=(w2-w)/d2\n",
    "#    d3=(w3-w)/d3\n",
    "#    d4=(w4-w)/d4\n",
    "#    \n",
    "#    T1+=lr*d1\n",
    "#    T2+=lr*d2\n",
    "#    T3+=lr*d3\n",
    "#    T4*=lr*d4\n",
    "#    print(\"T:\", T1, T2, T3, T4)\n",
    "#    print(\"D:\", d1, d2, d3, d4)\n",
    "#    print(\"Rate:\", w)"
   ]
  },
  {
   "cell_type": "code",
   "execution_count": 11,
   "metadata": {},
   "outputs": [],
   "source": [
    "#seems to never end\n",
    "#hist=matchTactic(self_tactic=Tactic.RuleBased3_gen(0, 0.75, 0.5, 0), TQDM=False, oppo_tactic=Tactic.RuleBased2_gen(0, 2.75, 2.5, 0), verbose=2, getHist=True, rounds=1000)"
   ]
  },
  {
   "cell_type": "code",
   "execution_count": 12,
   "metadata": {},
   "outputs": [
    {
     "name": "stderr",
     "output_type": "stream",
     "text": [
      "100%|██████████| 1000000/1000000 [00:00<00:00, 1273888.31it/s]"
     ]
    },
    {
     "name": "stdout",
     "output_type": "stream",
     "text": [
      "833265 out of 1000000\n"
     ]
    },
    {
     "name": "stderr",
     "output_type": "stream",
     "text": [
      "\n"
     ]
    }
   ],
   "source": [
    "rslt=matchTactic(self_tactic=Tactic.RuleBased3, oppo_tactic=Tactic.RuleBased1, verbose=0, getHist=True, rounds=1000000)\n",
    "print(sum(rslt),\"out of\", len(rslt))\n",
    "del rslt"
   ]
  },
  {
   "cell_type": "code",
   "execution_count": 13,
   "metadata": {},
   "outputs": [
    {
     "name": "stderr",
     "output_type": "stream",
     "text": [
      "100%|██████████| 1000000/1000000 [00:04<00:00, 249286.09it/s]"
     ]
    },
    {
     "name": "stdout",
     "output_type": "stream",
     "text": [
      "870059 out of 1000000\n"
     ]
    },
    {
     "name": "stderr",
     "output_type": "stream",
     "text": [
      "\n"
     ]
    }
   ],
   "source": [
    "rslt=matchTactic(self_tactic=Tactic.RuleBased3, oppo_tactic=Tactic.rand_act, verbose=0, getHist=True, rounds=1000000)\n",
    "print(sum(rslt),\"out of\", len(rslt))\n",
    "del rslt"
   ]
  },
  {
   "cell_type": "code",
   "execution_count": null,
   "metadata": {},
   "outputs": [],
   "source": []
  }
 ],
 "metadata": {
  "kernelspec": {
   "display_name": "pypypy",
   "language": "python",
   "name": "pypypy"
  },
  "language_info": {
   "codemirror_mode": {
    "name": "ipython",
    "version": 3
   },
   "file_extension": ".py",
   "mimetype": "text/x-python",
   "name": "python",
   "nbconvert_exporter": "python",
   "pygments_lexer": "ipython3",
   "version": "3.6.1"
  }
 },
 "nbformat": 4,
 "nbformat_minor": 2
}
